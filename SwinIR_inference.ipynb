{
 "cells": [
  {
   "cell_type": "code",
   "execution_count": 38,
   "id": "6a9d4aa7",
   "metadata": {},
   "outputs": [
    {
     "name": "stdout",
     "output_type": "stream",
     "text": [
      "loading model from superresolution/swinir_sr_classical_patch48_x3/models/25000_G.pth\n",
      "Testing 0 00                  \n",
      "Testing 1 01                  \n",
      "Testing 2 02                  \n",
      "Testing 3 03                  \n",
      "Testing 4 04                  \n",
      "Testing 5 05                  \n",
      "Testing 6 06                  \n",
      "Testing 7 07                  \n",
      "Testing 8 08                  \n",
      "Testing 9 09                  \n",
      "Testing 10 10                  \n",
      "Testing 11 11                  \n",
      "Testing 12 12                  \n",
      "Testing 13 13                  \n"
     ]
    }
   ],
   "source": [
    "!python main_test_swinir.py --task classical_sr --scale 3 --training_patch_size 48 --model_path superresolution/swinir_sr_classical_patch48_x3/models/25000_G.pth --folder_lq '/home/wschenst06g/Ming/MMSE_global/dodo/KAIR/testsets/test' --folder_gt testsets/test"
   ]
  },
  {
   "cell_type": "code",
   "execution_count": null,
   "id": "30def1a9",
   "metadata": {},
   "outputs": [],
   "source": []
  }
 ],
 "metadata": {
  "kernelspec": {
   "display_name": "Python 3 (ipykernel)",
   "language": "python",
   "name": "python3"
  },
  "language_info": {
   "codemirror_mode": {
    "name": "ipython",
    "version": 3
   },
   "file_extension": ".py",
   "mimetype": "text/x-python",
   "name": "python",
   "nbconvert_exporter": "python",
   "pygments_lexer": "ipython3",
   "version": "3.8.10"
  }
 },
 "nbformat": 4,
 "nbformat_minor": 5
}
